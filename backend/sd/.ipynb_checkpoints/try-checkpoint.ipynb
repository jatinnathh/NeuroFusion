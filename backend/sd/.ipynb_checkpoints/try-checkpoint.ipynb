{
 "cells": [
  {
   "cell_type": "code",
   "execution_count": 1,
   "id": "9470c737-3cba-493e-972c-01455e5d7b48",
   "metadata": {
    "scrolled": true
   },
   "outputs": [],
   "source": [
    "import model_loader\n",
    "import pipeline\n",
    "from PIL import Image\n",
    "from pathlib import Path\n",
    "from transformers import CLIPTokenizer\n",
    "import torch\n"
   ]
  },
  {
   "cell_type": "code",
   "execution_count": 4,
   "id": "038a2046-b011-4207-a290-6af67540af55",
   "metadata": {},
   "outputs": [
    {
     "name": "stdout",
     "output_type": "stream",
     "text": [
      "Using device: cuda\n"
     ]
    }
   ],
   "source": [
    "\n",
    "ALLOW_CUDA = True\n",
    "ALLOW_MPS = True  \n",
    "\n",
    "if ALLOW_CUDA and torch.cuda.is_available():\n",
    "    DEVICE = \"cuda\"\n",
    "elif ALLOW_MPS and torch.backends.mps.is_available():\n",
    "    DEVICE = \"mps\"\n",
    "else:\n",
    "    DEVICE = \"cpu\"\n",
    "\n",
    "print(f\"Using device: {DEVICE}\")\n"
   ]
  },
  {
   "cell_type": "code",
   "execution_count": 5,
   "id": "fd372c6d-124e-4813-b0e2-9c336a36692b",
   "metadata": {},
   "outputs": [
    {
     "ename": "RuntimeError",
     "evalue": "Error(s) in loading state_dict for VAE_Encoder:\n\tMissing key(s) in state_dict: \"13.groupnorm_1.weight\", \"13.groupnorm_1.bias\", \"13.conv_1.weight\", \"13.conv_1.bias\", \"13.groupnorm_2.weight\", \"13.groupnorm_2.bias\", \"13.conv_2.weight\", \"13.conv_2.bias\". \n\tUnexpected key(s) in state_dict: \"4.residual_layer.weight\", \"4.residual_layer.bias\", \"7.residual_layer.weight\", \"7.residual_layer.bias\", \"13.groupnorm.weight\", \"13.groupnorm.bias\", \"13.attention.out_proj.bias\", \"13.attention.in_proj.weight\", \"13.attention.in_proj.bias\", \"13.attention.out_proj.weight\". ",
     "output_type": "error",
     "traceback": [
      "\u001b[31m---------------------------------------------------------------------------\u001b[39m",
      "\u001b[31mRuntimeError\u001b[39m                              Traceback (most recent call last)",
      "\u001b[36mCell\u001b[39m\u001b[36m \u001b[39m\u001b[32mIn[5]\u001b[39m\u001b[32m, line 3\u001b[39m\n\u001b[32m      1\u001b[39m tokenizer = CLIPTokenizer(\u001b[33m\"\u001b[39m\u001b[33m../data/vocab.json\u001b[39m\u001b[33m\"\u001b[39m, merges_file=\u001b[33m\"\u001b[39m\u001b[33m../data/merges.txt\u001b[39m\u001b[33m\"\u001b[39m)\n\u001b[32m      2\u001b[39m model_file = \u001b[33m\"\u001b[39m\u001b[33m../data/v1-5-pruned-emaonly.ckpt\u001b[39m\u001b[33m\"\u001b[39m\n\u001b[32m----> \u001b[39m\u001b[32m3\u001b[39m models = model_loader.preload_models_from_standard_weights(model_file, DEVICE)\n",
      "\u001b[36mFile \u001b[39m\u001b[32m~\\Desktop\\CAL AIML\\stable diff\\sd\\model_loader.py:12\u001b[39m, in \u001b[36mpreload_models_from_standard_weights\u001b[39m\u001b[34m(ckpt_path, device)\u001b[39m\n\u001b[32m      9\u001b[39m state_dict = model_converter.load_from_standard_weights(ckpt_path, device)\n\u001b[32m     11\u001b[39m encoder = VAE_Encoder().to(device)\n\u001b[32m---> \u001b[39m\u001b[32m12\u001b[39m encoder.load_state_dict(state_dict[\u001b[33m'\u001b[39m\u001b[33mencoder\u001b[39m\u001b[33m'\u001b[39m], strict=\u001b[38;5;28;01mTrue\u001b[39;00m)\n\u001b[32m     14\u001b[39m decoder = VAE_Decoder().to(device)\n\u001b[32m     15\u001b[39m decoder.load_state_dict(state_dict[\u001b[33m'\u001b[39m\u001b[33mdecoder\u001b[39m\u001b[33m'\u001b[39m], strict=\u001b[38;5;28;01mTrue\u001b[39;00m)\n",
      "\u001b[36mFile \u001b[39m\u001b[32m~\\anaconda3\\envs\\cudaa\\Lib\\site-packages\\torch\\nn\\modules\\module.py:2584\u001b[39m, in \u001b[36mModule.load_state_dict\u001b[39m\u001b[34m(self, state_dict, strict, assign)\u001b[39m\n\u001b[32m   2576\u001b[39m         error_msgs.insert(\n\u001b[32m   2577\u001b[39m             \u001b[32m0\u001b[39m,\n\u001b[32m   2578\u001b[39m             \u001b[33m\"\u001b[39m\u001b[33mMissing key(s) in state_dict: \u001b[39m\u001b[38;5;132;01m{}\u001b[39;00m\u001b[33m. \u001b[39m\u001b[33m\"\u001b[39m.format(\n\u001b[32m   2579\u001b[39m                 \u001b[33m\"\u001b[39m\u001b[33m, \u001b[39m\u001b[33m\"\u001b[39m.join(\u001b[33mf\u001b[39m\u001b[33m'\u001b[39m\u001b[33m\"\u001b[39m\u001b[38;5;132;01m{\u001b[39;00mk\u001b[38;5;132;01m}\u001b[39;00m\u001b[33m\"\u001b[39m\u001b[33m'\u001b[39m \u001b[38;5;28;01mfor\u001b[39;00m k \u001b[38;5;129;01min\u001b[39;00m missing_keys)\n\u001b[32m   2580\u001b[39m             ),\n\u001b[32m   2581\u001b[39m         )\n\u001b[32m   2583\u001b[39m \u001b[38;5;28;01mif\u001b[39;00m \u001b[38;5;28mlen\u001b[39m(error_msgs) > \u001b[32m0\u001b[39m:\n\u001b[32m-> \u001b[39m\u001b[32m2584\u001b[39m     \u001b[38;5;28;01mraise\u001b[39;00m \u001b[38;5;167;01mRuntimeError\u001b[39;00m(\n\u001b[32m   2585\u001b[39m         \u001b[33m\"\u001b[39m\u001b[33mError(s) in loading state_dict for \u001b[39m\u001b[38;5;132;01m{}\u001b[39;00m\u001b[33m:\u001b[39m\u001b[38;5;130;01m\\n\u001b[39;00m\u001b[38;5;130;01m\\t\u001b[39;00m\u001b[38;5;132;01m{}\u001b[39;00m\u001b[33m\"\u001b[39m.format(\n\u001b[32m   2586\u001b[39m             \u001b[38;5;28mself\u001b[39m.\u001b[34m__class__\u001b[39m.\u001b[34m__name__\u001b[39m, \u001b[33m\"\u001b[39m\u001b[38;5;130;01m\\n\u001b[39;00m\u001b[38;5;130;01m\\t\u001b[39;00m\u001b[33m\"\u001b[39m.join(error_msgs)\n\u001b[32m   2587\u001b[39m         )\n\u001b[32m   2588\u001b[39m     )\n\u001b[32m   2589\u001b[39m \u001b[38;5;28;01mreturn\u001b[39;00m _IncompatibleKeys(missing_keys, unexpected_keys)\n",
      "\u001b[31mRuntimeError\u001b[39m: Error(s) in loading state_dict for VAE_Encoder:\n\tMissing key(s) in state_dict: \"13.groupnorm_1.weight\", \"13.groupnorm_1.bias\", \"13.conv_1.weight\", \"13.conv_1.bias\", \"13.groupnorm_2.weight\", \"13.groupnorm_2.bias\", \"13.conv_2.weight\", \"13.conv_2.bias\". \n\tUnexpected key(s) in state_dict: \"4.residual_layer.weight\", \"4.residual_layer.bias\", \"7.residual_layer.weight\", \"7.residual_layer.bias\", \"13.groupnorm.weight\", \"13.groupnorm.bias\", \"13.attention.out_proj.bias\", \"13.attention.in_proj.weight\", \"13.attention.in_proj.bias\", \"13.attention.out_proj.weight\". "
     ]
    }
   ],
   "source": [
    "tokenizer = CLIPTokenizer(\"../data/vocab.json\", merges_file=\"../data/merges.txt\")\n",
    "model_file = \"../data/v1-5-pruned-emaonly.ckpt\"\n",
    "models = model_loader.preload_models_from_standard_weights(model_file, DEVICE)\n"
   ]
  },
  {
   "cell_type": "code",
   "execution_count": null,
   "id": "50096301-95e4-46e2-97e2-215ba9e11813",
   "metadata": {},
   "outputs": [],
   "source": []
  }
 ],
 "metadata": {
  "kernelspec": {
   "display_name": "Python 3 (ipykernel)",
   "language": "python",
   "name": "python3"
  },
  "language_info": {
   "codemirror_mode": {
    "name": "ipython",
    "version": 3
   },
   "file_extension": ".py",
   "mimetype": "text/x-python",
   "name": "python",
   "nbconvert_exporter": "python",
   "pygments_lexer": "ipython3",
   "version": "3.11.13"
  }
 },
 "nbformat": 4,
 "nbformat_minor": 5
}
